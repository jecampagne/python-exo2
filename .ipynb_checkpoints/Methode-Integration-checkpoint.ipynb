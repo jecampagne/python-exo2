{
 "cells": [
  {
   "cell_type": "code",
   "execution_count": 1,
   "metadata": {},
   "outputs": [],
   "source": [
    "import numpy as np\n",
    "import matplotlib as mpl\n",
    "import matplotlib.pyplot as plt"
   ]
  },
  {
   "cell_type": "markdown",
   "metadata": {},
   "source": [
    "Ecris une fonction python nommée $f(x)$ qui retourne la valeur $x(x-1)^2$"
   ]
  },
  {
   "cell_type": "code",
   "execution_count": 2,
   "metadata": {},
   "outputs": [],
   "source": [
    "# %load solutions/exo_func.py"
   ]
  },
  {
   "cell_type": "markdown",
   "metadata": {},
   "source": [
    "Python permet l'appel de la fonction $f(x)$ avec un tableau de valeurs \"$x[0],\\dots,x[N-1]$\".\n",
    "Crées un tableau de 50 valeurs de $[0,1[$ , en utilisant la fonction *linspace* de la librairie **numpy**. Remarque que *linspace* a un argument qui permet d'inclure ou non les bornes; la valeur par défaut\n",
    "est \"endpoint=True\", or il nous faudra exclure la borne supérieure de l'intervale donc\n",
    "il faut utiliser \"endpoint=False\"."
   ]
  },
  {
   "cell_type": "code",
   "execution_count": 5,
   "metadata": {},
   "outputs": [],
   "source": [
    "#obtenir des informations sur une fonction decommente la ligne ci-dessous\n",
    "#?np.linspace"
   ]
  },
  {
   "cell_type": "code",
   "execution_count": 6,
   "metadata": {},
   "outputs": [],
   "source": [
    "# %load solutions/exo_array.py"
   ]
  },
  {
   "cell_type": "code",
   "execution_count": 7,
   "metadata": {},
   "outputs": [
    {
     "name": "stdout",
     "output_type": "stream",
     "text": [
      "taille =  50  valeurs=  [0.   0.02 0.04 0.06 0.08 0.1  0.12 0.14 0.16 0.18 0.2  0.22 0.24 0.26\n",
      " 0.28 0.3  0.32 0.34 0.36 0.38 0.4  0.42 0.44 0.46 0.48 0.5  0.52 0.54\n",
      " 0.56 0.58 0.6  0.62 0.64 0.66 0.68 0.7  0.72 0.74 0.76 0.78 0.8  0.82\n",
      " 0.84 0.86 0.88 0.9  0.92 0.94 0.96 0.98]\n"
     ]
    }
   ],
   "source": [
    "print(\"taille = \",len(x),\" valeurs= \",x)"
   ]
  },
  {
   "cell_type": "markdown",
   "metadata": {},
   "source": [
    "Obtenir le tableau des valeurs $f(x[0]),\\dots,f(x[N-1])$ s'obtient alors en donnant le tableau $x$ à $f$ et à l'affecter à la variable $y$ qui devient également un tableau de $N$ valeurs."
   ]
  },
  {
   "cell_type": "code",
   "execution_count": 8,
   "metadata": {},
   "outputs": [],
   "source": [
    "y = f(x)"
   ]
  },
  {
   "cell_type": "markdown",
   "metadata": {},
   "source": [
    "Le graphe de $f(x)$ s'obtient en utilisant la librairie **matplotlib**. Ici le code permet\n",
    "* de placer des couples $(x[i], f(x[i]))$ avec un marker rond bleu\n",
    "* de dessiner une courbe passant ces points\n",
    "* de donner un label à l'axe des abscisses et un autre à l'axe des ordonnées\n",
    "* de faire figurer une légende\n",
    "* de dessiner un cadrillage"
   ]
  },
  {
   "cell_type": "code",
   "execution_count": 9,
   "metadata": {},
   "outputs": [
    {
     "data": {
      "image/png": "[encoded data removed]",
      "text/plain": [
       "<Figure size 432x288 with 1 Axes>"
      ]
     },
     "metadata": {
      "needs_background": "light"
     },
     "output_type": "display_data"
    }
   ],
   "source": [
    "plt.scatter(x,y,label=r'$f(x)$')\n",
    "plt.plot(x,y,c='r',ls='--')\n",
    "plt.xlabel('x',fontsize=20)\n",
    "plt.ylabel('y',fontsize=20)\n",
    "plt.legend(fontsize=20)\n",
    "plt.grid()\n",
    "plt.show()"
   ]
  },
  {
   "cell_type": "markdown",
   "metadata": {},
   "source": [
    "# Calcul de l'integrale : méthode d'approximation en escalier.\n",
    "On veut donc calculer une approximation de l'intégrale selon la formule\n",
    "$$\n",
    "\\int_a^b f(x) dx \\approx \\frac{b-a}{n} \\sum_{i=0}^{n-1} f(x_i) \n",
    "$$"
   ]
  },
  {
   "cell_type": "markdown",
   "metadata": {},
   "source": [
    "Ecris donc une fonction nommée \"integ0\" qui a pour arguments: \n",
    "* la borne inférieure de l'intégrale $a$\n",
    "* la borne supérieure de l'intégrale $b$\n",
    "* le nombre de points $n$ qui sont utilisés pour calculer $f(x_i)$\n",
    "* la fonction $f$ à intégrer\n",
    "Cette fonction \"integ0\" doit:\n",
    "1. créer un tableau $x$ de $n$ valeurs dans l'intervalle $[a, b[$\n",
    "2. créer le tableau des $n$ valeurs $f(x_i)$ et le stocker dans la variable $y$\n",
    "3. calculer la somme $\\sum_i f(x_i)$, on pourra se servir de la fonction *sum* de **numpy**\n",
    "4. retourner la valeur de l'intégrale"
   ]
  },
  {
   "cell_type": "code",
   "execution_count": 38,
   "metadata": {},
   "outputs": [],
   "source": [
    "# %load solutions/exo_integ0.py"
   ]
  },
  {
   "cell_type": "markdown",
   "metadata": {},
   "source": [
    "On peut donc maintenant facilement calculer l'approximation de l'intégrale sur $[0, 1[$ de la fonction $f(x)=x(x-1)^2$ avec $n=100$ échantillons $x_i$. Tu peux également changer la valeur de $n$ pour voir ce que cela change."
   ]
  },
  {
   "cell_type": "code",
   "execution_count": 28,
   "metadata": {},
   "outputs": [
    {
     "name": "stdout",
     "output_type": "stream",
     "text": [
      "Approx. integrale [ 100 ] =  0.083325\n"
     ]
    }
   ],
   "source": [
    "n=100\n",
    "print(\"Approx. integrale [\",n,\"] = \",integ0(0,1,n,f))"
   ]
  },
  {
   "cell_type": "markdown",
   "metadata": {},
   "source": [
    "Or, $f(x)=x(x-1)^2$ est un polynôme du 3éme degré dont la primitive $F(x)$ est facilement calculable à la main pour obtenir:\n",
    "$$\n",
    "\\int_a^b f(x) dx = F(b)-F(a)\n",
    "$$\n",
    "Ecris donc une fonction nommée $F(x)$ qui retourne la valeur de la primitive en $x$."
   ]
  },
  {
   "cell_type": "code",
   "execution_count": 12,
   "metadata": {},
   "outputs": [],
   "source": [
    "# %load solutions/exo_primitive.py"
   ]
  },
  {
   "cell_type": "code",
   "execution_count": 13,
   "metadata": {},
   "outputs": [
    {
     "name": "stdout",
     "output_type": "stream",
     "text": [
      "'Vraie' integrale = 0.08333333333333337\n"
     ]
    }
   ],
   "source": [
    "integ0_true = F(1)-F(0)\n",
    "print(\"'Vraie' integrale =\", integ0_true)"
   ]
  },
  {
   "cell_type": "markdown",
   "metadata": {},
   "source": [
    "On note une différence entre la valeur approchée de l'intégrale obtenue avec $n=100$ échantillons entre $[0,1[$ et la valeur obtenue par le culcul directe de la primitive. Nous allons étudier l'évolution de l'approximation en fonction de $n$.\n",
    "\n",
    "Le code ci-dessous effectue les étapes suivantes:\n",
    "1. construction d'un tableau \"nNodes\" de 100 valeurs entre $[10,10^4]$ échantillonné en échelle logarithmique\n",
    "2. on contruit une liste \"integ\" des intégrales approchées en les calculant par une boucle sur $n$ \n",
    "3. on transforme la liste en tableau **numpy**"
   ]
  },
  {
   "cell_type": "code",
   "execution_count": 52,
   "metadata": {},
   "outputs": [],
   "source": [
    "nNodes = np.logspace(1,4,100,dtype=int) \n",
    "integ = []\n",
    "for n in nNodes:\n",
    "    integ.append(integ0(0,1,n,f))\n",
    "integ = np.array(integ)"
   ]
  },
  {
   "cell_type": "markdown",
   "metadata": {},
   "source": [
    "Le graphe suivant montre le pourcentage d'erreur commise en fonction du nombre d'échantillons $n$ qui servent à calculer l'intégrale approchée."
   ]
  },
  {
   "cell_type": "code",
   "execution_count": 45,
   "metadata": {},
   "outputs": [
    {
     "data": {
      "image/png": "[encoded data removed]",
      "text/plain": [
       "<Figure size 432x288 with 1 Axes>"
      ]
     },
     "metadata": {
      "needs_background": "light"
     },
     "output_type": "display_data"
    }
   ],
   "source": [
    "plt.plot(nNodes,100*((integ/integ0_true)-1))\n",
    "plt.xscale(\"log\")\n",
    "plt.xlabel('n',fontsize=20)\n",
    "plt.ylabel(r\"$(I_{approx}-I_{vraie})/I_{vraie}$ (%)\",fontsize=20)\n",
    "plt.grid()\n",
    "plt.show()"
   ]
  },
  {
   "cell_type": "markdown",
   "metadata": {},
   "source": [
    "Plus donc $n$ augmente plus l'accord \"approximation\" versus \"vraie\" est meilleure. On conçoit en effet que plus le nombre d'échantillons $x_i$ sur $[0,1[$ augmente meilleure est l'approximation en escalier de la fonction $f(x)$. On peut présenter le résultat en prenant la valeur absolue de la différence \"approx\"-\"vraie\" et en mettant en échelle log l'axe des ordonnées."
   ]
  },
  {
   "cell_type": "code",
   "execution_count": 51,
   "metadata": {},
   "outputs": [
    {
     "data": {
      "image/png": "[encoded data removed]",
      "text/plain": [
       "<Figure size 432x288 with 1 Axes>"
      ]
     },
     "metadata": {
      "needs_background": "light"
     },
     "output_type": "display_data"
    }
   ],
   "source": [
    "plt.plot(nNodes,100*np.abs(((integ/integ0_true)-1)))\n",
    "plt.xscale(\"log\")\n",
    "plt.yscale(\"log\",nonposy='clip')\n",
    "plt.xlabel('n',fontsize=20)\n",
    "plt.ylabel(r\"$\\|\\Delta I\\|/I_{vraie}$ (%)\",fontsize=20)\n",
    "plt.grid()\n",
    "plt.show()"
   ]
  },
  {
   "cell_type": "markdown",
   "metadata": {},
   "source": [
    "En lisant ce graphe d'aprés toi, quelle est la loi d'échelle, c'est-à-dire donne la valeur de $p$ de la relation suivante: \n",
    "$$\n",
    "\\frac{|\\Delta I|}{I} = \\frac{1}{n^p}\n",
    "$$"
   ]
  },
  {
   "cell_type": "code",
   "execution_count": null,
   "metadata": {},
   "outputs": [],
   "source": []
  }
 ],
 "metadata": {
  "kernelspec": {
   "display_name": "Python 3",
   "language": "python",
   "name": "python3"
  },
  "language_info": {
   "codemirror_mode": {
    "name": "ipython",
    "version": 3
   },
   "file_extension": ".py",
   "mimetype": "text/x-python",
   "name": "python",
   "nbconvert_exporter": "python",
   "pygments_lexer": "ipython3",
   "version": "3.7.1"
  }
 },
 "nbformat": 4,
 "nbformat_minor": 2
}
