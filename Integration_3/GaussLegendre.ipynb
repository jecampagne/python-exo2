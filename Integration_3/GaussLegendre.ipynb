{
 "cells": [
  {
   "cell_type": "code",
   "execution_count": 9,
   "metadata": {},
   "outputs": [],
   "source": [
    "import numpy as np\n",
    "import matplotlib as mpl\n",
    "import matplotlib.pyplot as plt"
   ]
  },
  {
   "cell_type": "markdown",
   "metadata": {},
   "source": [
    "# But\n",
    "Il s'agit du troisième notebook sur les techniques d'intégration de fonction à 1 dimension. Dans celui-ci, tu vas mettre en oeuvre la méthode dites **de Gauss-Legendre**. Celle-ci fait partie du champ des \"quadratures\" qui approxime l'intégrale selon une somme pondérée comme:\n",
    "$$\n",
    "\\int_a^b f(x) dx = \\sum_{i=0}^{n-1} w_i f(x_i) \n",
    "$$\n",
    "avec $x_i$ des **noeuds** auxquels est évaluée la fonction $f$, $y_i=f(x_i)$ et $w_i$ des **poids**. \n",
    "\n",
    "Notes que la méthode des trapèzes étudiée dans le second notebook ainsi d'ailleurs que la méthode des rectangles, s'apparante à ce type de d'approximation. Cependant tandis que ces dernières échantillonnent la fonction $f$ à des noeuds régulièrement espacés, pour la méthode de Gauss-Legendre c'est différent. \n",
    "\n",
    "# Polynômes de Legendre\n",
    "Je ne vais pas faire de démonstration, et je donne le résultat suivant dans le cas d'une intégration sur l'intervalle [-1,1] (nous verrons comme l'étendre à l'intervalle [a,b]):\n",
    "1. les $x_i$ sont les racines du polynôme de Legendre de rang $n$, qui est de degré $n$, donc \n",
    "$$\n",
    "P_n(x_i) = 0 \\qquad i=0,\\dots,n-1\n",
    "$$\n",
    "2. les $w_i$ ont l'expression suivante:\n",
    "$$\n",
    "w_i = \\frac{2(1-x_i^2)}{[n P_{n-1}\\ (x_i)]^2}\\qquad i=0,\\dots,n-1\n",
    "$$\n",
    "\n",
    "Il faut donc pour **$n$ fixé** que l'on nomme **l'ordre de la quadrature**, pouvoir calculer $P_n(x)$ pour trouver les racines et évaluer $P_{n-1}(x_i)$. Il se trouve que les polynômes de Legendre font partie d'une classe particulière des polynômes appelée: la classe des **polynômes orthogonaux**. Ils satisfont la relation d'orthogonalité (cf. produit scalaire dans l'espace vectoriel des polynômes) suivante:\n",
    "$$\n",
    "\\int_{-1}^1 P_n(x) P_m(x) dx = \\frac{2}{2n+1} \\delta_{nm}\n",
    "$$\n",
    "avec $\\delta_{ij}$ le symoble de **Kronecker** qui est égale à 1 si $i=j$ et 0 sinon. Les polynômes de Legendre satisfont alors une relation de récurrence \n",
    "$$\n",
    "P_n(x) = \\frac{1}{n} \\left[(2n-1)x P_{n-1}(x)-(n-1)P_{n-2}\\ (x) \\right]\n",
    "$$\n",
    "avec $P_0(x)=1$ et $P_1(x) = x$ pour initialiser la récurrence.\n",
    "\n",
    "**Exercice**: Ecris une fonction nommée \"legendre(n,x)\" qui a pour arguments\n",
    "* n: l'odre du polynôme $P_n$ \n",
    "* x: la valeur (ou le tableau de valeurs) à laquelle on veut évaluer $P_n(x)$\n",
    "\n",
    "Tu utilises la formule de récurrence. Comme par ailleurs, cette récurrence donne accés à $P_{n-1}\\ (x)$, tu feras retourner (par un \"return\") un **dictionnaire** python dont la structure sera la suivante:\n",
    "\n",
    "    {'pn': valeur de P_n(x), 'pnm1': valeur de P_{n-1}(x)}\n",
    "\n",
    "\n",
    "Nb. un dictionnaire est un ensemble de entre \"{ }\" qui comporte une suite de \n",
    "\"clé:valeur\" séparée par des \",\"."
   ]
  },
  {
   "cell_type": "code",
   "execution_count": 175,
   "metadata": {},
   "outputs": [],
   "source": [
    "# %load ./solutions/exo_legendre.py"
   ]
  },
  {
   "cell_type": "markdown",
   "metadata": {},
   "source": [
    "Voyons par exemple les graphes de $P_5(x)$ et $P_4(x)$ qui nous servirons pour établir la quadrature de Gauss-Legendre d'ordre 5."
   ]
  },
  {
   "cell_type": "code",
   "execution_count": 27,
   "metadata": {},
   "outputs": [
    {
     "data": {
      "image/png": "[encoded data removed]",
      "text/plain": [
       "<Figure size 432x288 with 1 Axes>"
      ]
     },
     "metadata": {
      "needs_background": "light"
     },
     "output_type": "display_data"
    }
   ],
   "source": [
    "x=np.linspace(-1,1,50)\n",
    "y = legendre(5,x)        # y est un dictionnaire avec les cles 'pn' et 'pnm1'\n",
    "plt.scatter(x,y['pn'],label='$P_5(x)$')\n",
    "plt.plot(x,y['pn'])\n",
    "plt.scatter(x,y['pnm1'],label='$P_4(x)$')\n",
    "plt.plot(x,y['pnm1'])\n",
    "plt.xlabel('x',fontsize=16)\n",
    "plt.legend(fontsize=16)\n",
    "plt.grid()\n",
    "plt.show()"
   ]
  },
  {
   "cell_type": "markdown",
   "metadata": {},
   "source": [
    "On remarque que $P_4$ et **pair**, alors que $P_5$ est impair. On peut montrer par récurrence que cela se généralise:\n",
    "$$\n",
    "P_{n}(-x) = (-1)^n\\ P_{n}(x)\n",
    "$$\n",
    "Cela nous sert pour déterminer les racines des polynômes. En particulier, on montre facilement que $P_5(0)=0$ (comme pour tous les polynômes impairs) et il suffit de chercher 2 racines dans l'intervalle ]0,1[ pour connaître les racines de $P_5$ (ça se généralise à $p$ racines non nulles sur ]0,1[ pour $P_{2p+1}\\ $ ). "
   ]
  },
  {
   "cell_type": "markdown",
   "metadata": {},
   "source": [
    "# Recherche des racines par dichotomie\n",
    "Il nous faut donc trouver les racines de $P_5(x)$, on les note ${x_0,x_1,x_2,x_3,x_4}$. On sait que:\n",
    "$$\n",
    "x_0 = -x_4, \\quad x_1 = -x_3, \\quad x_2 = 0\n",
    "$$\n",
    "Cherchons donc $x_3$ et $x_4$ dans l'intervalle ]0,1[.\n",
    "\n",
    "D'aprés le graphe de $P_5(x)$, on se doute que l'on peut \"séparer\" les deux racines en les encadrant selon :\n",
    "$$\n",
    "0.4 < x_3 < 0.6 \\quad et \\quad 0.75 < x_4 < 1.0\n",
    "$$\n",
    "On va donc mettre en oeuvre la recherche par dichotomie.\n",
    "\n",
    "**Exercice**: \n",
    "\n",
    "Ecris une fonction \"root(f,a,b,eps=1e-13)\" qui prend en argument:\n",
    "* f: la fonction dont on cherche la racine dans l'intervale [a,b]\n",
    "* a: borne inf de l'intervale de recherche\n",
    "* b: borne sup de l'intervale de recherche\n",
    "* eps: l'erreur absolue entre deux estimations conscécutives de la racine\n",
    "\n",
    "Tu mets en oeuvre la méthode de recherche par dychotomie.\n"
   ]
  },
  {
   "cell_type": "code",
   "execution_count": 177,
   "metadata": {},
   "outputs": [],
   "source": [
    "# %load ./solutions/exo_root.py"
   ]
  },
  {
   "cell_type": "code",
   "execution_count": 30,
   "metadata": {},
   "outputs": [],
   "source": [
    "def leg5(x):\n",
    "    return legendre(5,x)['pn']"
   ]
  },
  {
   "cell_type": "markdown",
   "metadata": {},
   "source": [
    "Donc maintenant estimons les valeurs de $x_3$ et $x_4$, et affectons au tableau \"xroot\" les racines de $P_5(x)$ qui sont les noeuds de la quadrature de Gauss-Legendre"
   ]
  },
  {
   "cell_type": "code",
   "execution_count": 50,
   "metadata": {},
   "outputs": [],
   "source": [
    "x3 = root(leg5,0.4,0.6)\n",
    "x4 = root(leg5,0.75,1.0)\n",
    "xroot=np.array([-x4,-x3,0.,x3,x4])"
   ]
  },
  {
   "cell_type": "code",
   "execution_count": 52,
   "metadata": {},
   "outputs": [
    {
     "data": {
      "text/plain": [
       "array([-1.14930288e-13,  6.76791956e-14,  0.00000000e+00, -6.76791956e-14,\n",
       "        1.14930288e-13])"
      ]
     },
     "execution_count": 52,
     "metadata": {},
     "output_type": "execute_result"
    }
   ],
   "source": [
    "#Verification de P_5(xroot) = 0\n",
    "leg5(xroot)"
   ]
  },
  {
   "cell_type": "markdown",
   "metadata": {},
   "source": [
    "Passons à l'estimation des poids. On va se servir de la fonction legendre qui P_5 er P_4 qui va retourner un dictionnaire python avec deux clés ('pn' et 'pnm1') dont cette fois les valeurs associées sont des tableaux numpy constitués de $[P_5(x0),\\dots,P_5(x_4)]$ et de $[P_4(x0),\\dots,P_4(x_4)]$ "
   ]
  },
  {
   "cell_type": "code",
   "execution_count": 56,
   "metadata": {},
   "outputs": [
    {
     "name": "stdout",
     "output_type": "stream",
     "text": [
      "{'pn': array([-1.14930288e-13,  6.76791956e-14,  0.00000000e+00, -6.76791956e-14,\n",
      "        1.14930288e-13]), 'pnm1': array([ 0.24573546, -0.34450089,  0.375     , -0.34450089,  0.24573546])}\n"
     ]
    }
   ],
   "source": [
    "leg54_vals= legendre(5,xroot)\n",
    "print(leg54_vals)"
   ]
  },
  {
   "cell_type": "code",
   "execution_count": 57,
   "metadata": {},
   "outputs": [],
   "source": [
    "p4vals = leg54_vals['pnm1']"
   ]
  },
  {
   "cell_type": "markdown",
   "metadata": {},
   "source": [
    "Comme les poids $w_i$ sont données par \n",
    "$$\n",
    "w_i = \\frac{2(1-x_i^2)}{[n P_{n-1}\\ (x_i)]^2}\\qquad i=0,\\dots,n-1\n",
    "$$\n",
    "alors"
   ]
  },
  {
   "cell_type": "code",
   "execution_count": 58,
   "metadata": {},
   "outputs": [],
   "source": [
    "weights = 2/25*(1-xroot**2)/p4vals**2"
   ]
  },
  {
   "cell_type": "code",
   "execution_count": 59,
   "metadata": {},
   "outputs": [
    {
     "name": "stdout",
     "output_type": "stream",
     "text": [
      "Weights =  [0.23692689 0.47862867 0.56888889 0.47862867 0.23692689]\n"
     ]
    }
   ],
   "source": [
    "print(\"Weights = \",weights)"
   ]
  },
  {
   "cell_type": "markdown",
   "metadata": {},
   "source": [
    "# Quadrature de Gauss-Legendre n=5\n",
    "## Rappels\n",
    "\n",
    "On obtient une approximation de l'intégrale de $f(x)$ sur l'intervalle [-1,1] en effectuant la somme pondérée suivante:\n",
    "$$\n",
    "\\sum_{i=0}^{n-1} w_i f(x_i) = W.Y\n",
    "$$\n",
    "que j'ai mis sous forme de produit scalaire des vecteurs $W=[w_i]$  et $Y=[f(x_i)]$ pour $i=0,\\dots,n-1$. Cette formulation a déjà été utilisée lors de la mise en oeuvre de l'approximation des trapèzes. \n",
    "\n",
    "## Mise à l'échelle des positions des noeuds\n",
    "Cepandant, il reste encore une étapea avant de pouvoir calculer une valeur approchée de l'intégrale de $f(x)$ sur l'intervalle [a,b]: \n",
    "comment obtenir **les positions des noeuds sur un intervalle quelconque** $[borne_p,borne_{p+1}\\ ]$ sachant qu'ils sont définis pour l'intervalle [-1,1]?\n",
    "\n",
    "Pour cela, on transforme l'intégrale initiale de $f(x)$ sur l'intervalle $[a,b]$ par un changement de variable d'intégration $x \\rightarrow u$ selon la transformation affine suivante:\n",
    "$$\n",
    "x = \\frac{1}{2}\\left[ b(u+1) + a (1-u) \\right] = u \\left( \\frac{b-a}{2}\\right) + \n",
    "\\left( \\frac{a+b}{2}\\right)\n",
    "$$\n",
    "quand $u=-1 \\Leftrightarrow x=a$ et quand $u=1 \\Leftrightarrow x=b$. Ainsi, \n",
    "comme\n",
    "$$\n",
    "dx/du = \\frac{b-a}{2} \n",
    "$$\n",
    "il vient\n",
    "$$\n",
    "\\int_a^b f(x) dx = \\frac{b-a}{2} \\int_{-1}^1 f\\left[ u \\left( \\frac{b-a}{2}\\right) + \n",
    "\\left( \\frac{a+b}{2}\\right) \\right] du\n",
    "$$\n",
    "C'est donc de nouveau une intégrale sur $[-1,1]$ qui apparaît que l'on peut approximer par la méthode de Gauss-Legendre, mais si les poids $W$ de la quadrature ne changent pas, les positions auxquelles sont évaluées la fonction $f$ sont changées par la transformation linéaire: \n",
    "$$\n",
    "x^{(a,b)}_i = x^{(-1,1)}_i\\  \\left( \\frac{b-a}{2}\\right) + \n",
    "\\left( \\frac{a+b}{2}\\right)\n",
    "$$"
   ]
  },
  {
   "cell_type": "code",
   "execution_count": 123,
   "metadata": {},
   "outputs": [],
   "source": [
    "def rescale(x,a,b):\n",
    "    return x*(b-a)/2+(a+b)/2"
   ]
  },
  {
   "cell_type": "markdown",
   "metadata": {},
   "source": [
    "Donc on a les ingrédients pour écrire une fonction d'intégration par Gauss-Legendre d'ordre 5 sur l'intervalle (a,b). \n",
    "\n",
    "**Exercic**:\n",
    "\n",
    "Ecris une fonction \"integ2(a,b,W,X,f)\" qui prend en argument:\n",
    "* a: borne sup d'integration\n",
    "* b: borne inf d'intégration\n",
    "* W: le tableau des poids de la quadrature\n",
    "* X: les noeuds de la quadrature établis pour l'intervalle [-1,1]\n",
    "* f: la fonction à intégrer\n",
    "\n",
    "Il faut penser à faire un changement d'échelle des noeuds en utilisant la fonction \"rescale\". Ensuite je rappelle que le produit scalaire W.F se fait avec la fonction numpy \"np.dot(W,F)\". \n"
   ]
  },
  {
   "cell_type": "code",
   "execution_count": 178,
   "metadata": {},
   "outputs": [],
   "source": [
    "# %load ./solutions/exo_glegquad.py"
   ]
  },
  {
   "cell_type": "markdown",
   "metadata": {},
   "source": [
    "Tu te souviens des approximations par des rectangles et des trapezes, je les remets ici comme dans la version du premier notebook et second notebook:"
   ]
  },
  {
   "cell_type": "code",
   "execution_count": 62,
   "metadata": {},
   "outputs": [],
   "source": [
    "def integ1(a,b,ns,f):\n",
    "    assert a<b, \"Oh non! a doit être inférieur à b\"\n",
    "    assert a!=b, \"Oh non! a doit être différent de b\"\n",
    "    ns = ns.astype(int)\n",
    "    xs = np.linspace(a,b,ns+1,endpoint=True)\n",
    "    ys = f(xs)\n",
    "    W  = np.ones(ns+1)\n",
    "    W[0] = W[-1] = 0.5\n",
    "    return (b-a)/ns * np.dot(ys,W)"
   ]
  },
  {
   "cell_type": "code",
   "execution_count": 63,
   "metadata": {},
   "outputs": [],
   "source": [
    "def integ0(a,b,n,f):\n",
    "    x = np.linspace(a,b,n.astype(int),endpoint=False)\n",
    "    y = f(x)\n",
    "    return (b-a)/n * np.sum(y)"
   ]
  },
  {
   "cell_type": "markdown",
   "metadata": {},
   "source": [
    "# Exemple simple\n",
    "On va reprendre la fonction du second notebook"
   ]
  },
  {
   "cell_type": "code",
   "execution_count": 64,
   "metadata": {},
   "outputs": [],
   "source": [
    "def f(x,x1=1,x2=3,c=0.2):\n",
    "    return (x-x1)**2*(x-x2)**2+c"
   ]
  },
  {
   "cell_type": "markdown",
   "metadata": {},
   "source": [
    "que l'on va intégrer sur l'intervalle [0,3]. Pour mémoire, les noeuds et poids calculés précédemment pour l'intervalle [-1,1] sont stockés dans les tableaux \"xroot\" et \"weights\". Donc,"
   ]
  },
  {
   "cell_type": "code",
   "execution_count": 150,
   "metadata": {},
   "outputs": [
    {
     "name": "stdout",
     "output_type": "stream",
     "text": [
      "Gauss-Legendre (n=5) App=4.200\n"
     ]
    }
   ],
   "source": [
    "gaussLegInteg = integ2(0,3,weights,xroot,f)\n",
    "print(\"Gauss-Legendre (n=5) App={0:.3f}\".format(gaussLegInteg))"
   ]
  },
  {
   "cell_type": "markdown",
   "metadata": {},
   "source": [
    "Il faut bien réaliser que cette valeur approchée (et exacte en l'occurance) a été obtenue en **5 échantillons seulement**.\n",
    "\n",
    "Pour comparaison, je remets l'évaluation par les méthodes des rectangles et des trapèzes de la fin du second notebook, en fonction du nombre d'échantillons (n):"
   ]
  },
  {
   "cell_type": "code",
   "execution_count": 69,
   "metadata": {},
   "outputs": [
    {
     "name": "stdout",
     "output_type": "stream",
     "text": [
      "n=   10, Rect. App=5.729, Trap. App=4.379 \n",
      "n=   21, Rect. App=4.884, Trap. App=4.241 \n",
      "n=   46, Rect. App=4.502, Trap. App=4.209 \n",
      "n=  100, Rect. App=4.337, Trap. App=4.202 \n",
      "n=  215, Rect. App=4.263, Trap. App=4.200 \n",
      "n=  464, Rect. App=4.229, Trap. App=4.200 \n",
      "n= 1000, Rect. App=4.214, Trap. App=4.200 \n",
      "n= 2154, Rect. App=4.206, Trap. App=4.200 \n",
      "n= 4641, Rect. App=4.203, Trap. App=4.200 \n",
      "n=10000, Rect. App=4.201, Trap. App=4.200 \n"
     ]
    }
   ],
   "source": [
    "nNodes = np.logspace(1,4,10,dtype=int) \n",
    "app0 = []\n",
    "app1 = []\n",
    "for n in nNodes:\n",
    "    a0 = integ0(0,3,n,f)\n",
    "    a1 = integ1(0,3,n,f)\n",
    "    app0.append(a0)\n",
    "    app1.append(a1)\n",
    "    print(\"n={0:5d}, Rect. App={1:.3f},\\\n",
    " Trap. App={2:.3f} \".format(n,a0,a1))\n",
    "app0 = np.array(app0)\n",
    "app1 = np.array(app1)"
   ]
  },
  {
   "cell_type": "markdown",
   "metadata": {},
   "source": [
    "**Question**: Que constates-tu?"
   ]
  },
  {
   "cell_type": "markdown",
   "metadata": {},
   "source": [
    "# Exemple un peu plus compliqué\n",
    "La remarquable efficacité de la quadrature de Gauss-Legendre d'ordre $n$, tient au fait quelle donne un résultat **exacte** pour tout polynôme de degré $d\\leq 2n-1$. Dans notre cas avec $n=5$, **l'évaluation de l'intégrale est exacte pour des polynômes de degré 9**. \n",
    "\n",
    "Ceci dit, considérons à présent la fonction suivante "
   ]
  },
  {
   "cell_type": "code",
   "execution_count": 84,
   "metadata": {},
   "outputs": [],
   "source": [
    "def g(x):\n",
    "    return np.sin(x**5)*x"
   ]
  },
  {
   "cell_type": "code",
   "execution_count": 126,
   "metadata": {},
   "outputs": [
    {
     "data": {
      "image/png": "[encoded data removed]",
      "text/plain": [
       "<Figure size 432x288 with 1 Axes>"
      ]
     },
     "metadata": {
      "needs_background": "light"
     },
     "output_type": "display_data"
    }
   ],
   "source": [
    "x=np.linspace(0,2,1000)\n",
    "plt.plot(x,g(x))\n",
    "plt.grid()"
   ]
  },
  {
   "cell_type": "markdown",
   "metadata": {},
   "source": [
    "Si on calcule brutalement par la méthode de Gauss-Legendre d'ordre 5 l'intégrale sur [0,5], cela donne une valeur"
   ]
  },
  {
   "cell_type": "code",
   "execution_count": 151,
   "metadata": {},
   "outputs": [
    {
     "name": "stdout",
     "output_type": "stream",
     "text": [
      "I=  1.0297953418913777\n"
     ]
    }
   ],
   "source": [
    "print(\"I= \",integ2(0,2,weights,xroot,g))"
   ]
  },
  {
   "cell_type": "markdown",
   "metadata": {},
   "source": [
    "mais la vraie valeur est de 0.239667... Donc on fait une grossière erreure !!!\n",
    "\n",
    "On a deux possibilités:\n",
    "1. soit on augmente l'ordre de la quadrature, mais cela implique de recalculer  les poids et les racines d'un nouveau polynôme de Legendre;\n",
    "2. soit on découpe l'intervalle [0,2] en sous-intervalle sur lesquels on applique la formule d'intégrale avec GL d'ordre 5, et on somme l'ensemble des intégrales. \n",
    "\n",
    "La méthode (2) est générale, et s'écrit pour $P$ sous-intervales notés $[b_p, b_{p+1}\\ ]$:\n",
    "$$\n",
    "\\int_a^b f(x) dx = \\sum_{p=0}^{P-1}\\  \\int_{b_p}^{b_{p+1}}\\ f(x) dx\n",
    "$$"
   ]
  },
  {
   "cell_type": "code",
   "execution_count": 152,
   "metadata": {},
   "outputs": [],
   "source": [
    "def integ2b(a,b,P,W,X,f):\n",
    "    res = 0 # le résultat final \n",
    "    # decoupage de [a,b] en P intervalles (attention a linspace)\n",
    "    bounds = np.linspace(a,b,P+1,endpoint=True)\n",
    "    for i in range(P):\n",
    "        # determination des bornes [blow, bhigh]\n",
    "        blow   = bounds[i]\n",
    "        bhigh  = bounds[i+1]\n",
    "        # appel à al méthode de GL sur [blow, bhigh]\n",
    "        res += integ2(blow,bhigh,W,X,f)\n",
    "    # retour du resultat\n",
    "    return res"
   ]
  },
  {
   "cell_type": "markdown",
   "metadata": {},
   "source": [
    "Voyons comment converge l'approximation de l'intégrale avec le nombre P de sous-intervalles."
   ]
  },
  {
   "cell_type": "code",
   "execution_count": 165,
   "metadata": {},
   "outputs": [
    {
     "name": "stdout",
     "output_type": "stream",
     "text": [
      "n=    0, GL-5 App=0.000000\n",
      "n=    5, GL-5 App=0.329410\n",
      "n=   10, GL-5 App=0.229167\n",
      "n=   15, GL-5 App=0.239929\n",
      "n=   20, GL-5 App=0.239698\n",
      "n=   25, GL-5 App=0.239668\n",
      "n=   30, GL-5 App=0.239667\n",
      "n=   35, GL-5 App=0.239667\n",
      "n=   40, GL-5 App=0.239667\n",
      "n=   45, GL-5 App=0.239667\n"
     ]
    }
   ],
   "source": [
    "for p in range(0,50,5):\n",
    "    print(\"n={0:5d}, GL-5 App={1:.6f}\".format(p,integ2b(0,2,p,weights,xroot,g)))"
   ]
  },
  {
   "cell_type": "markdown",
   "metadata": {},
   "source": [
    "Il faut donc 30 sous-intervalles (d'égale longueur) évalués avec 5 pts pour obtenir la valeur \"exacte\" de l'intégrale. Cela fait donc 150 pts d'évaluation.\n",
    "En comparaison, la méthode des trapèzes requière 10,000 pts d'évaluation comme on le montre dans ce qui suit:"
   ]
  },
  {
   "cell_type": "code",
   "execution_count": 166,
   "metadata": {},
   "outputs": [
    {
     "name": "stdout",
     "output_type": "stream",
     "text": [
      "n=   10, Trap. App=0.003200 \n",
      "n=   21, Trap. App=0.442186 \n",
      "n=   46, Trap. App=0.267356 \n",
      "n=  100, Trap. App=0.244350 \n",
      "n=  215, Trap. App=0.240643 \n",
      "n=  464, Trap. App=0.239875 \n",
      "n= 1000, Trap. App=0.239711 \n",
      "n= 2154, Trap. App=0.239676 \n",
      "n= 4641, Trap. App=0.239669 \n",
      "n=10000, Trap. App=0.239667 \n"
     ]
    }
   ],
   "source": [
    "nNodes = np.logspace(1,4,10,dtype=int) \n",
    "for n in nNodes:\n",
    "    a1 = integ1(0,2,n,g)\n",
    "    print(\"n={0:5d}, Trap. App={1:.6f} \".format(n,a1))"
   ]
  },
  {
   "cell_type": "markdown",
   "metadata": {},
   "source": [
    "# Conclusion & Discussion\n",
    "Tu as donc mis en oeuvre aux termes de ces 3 notebooks, une méthode efficace et largement utilisée en pratique, d'intégration numérique par la méthode de Gauss-Legendre d'ordre 5. Cependant, on peut se poser les questions qui seraient autant de piste de réflexion:\n",
    "1. La fonction  $g(x)$ sur l'intervalle [0, 1.25], n'oscille pas vraiment, alors que plus $x$ augmente plus la fréquence d'oscillation augmente. On peut se demander s'il est bien pertinent de partager en sous-intervalles d'égale longueur l'intervalle [0,2]. N'est-il pas plus judicieux de mettre en place un algorithme qui \"adapte\" la taille des sous-intervalles?\n",
    "2. une autre question qui est reliè à la précédente: peut-on calculer pour $n$ fixer (ici l'ordre de la quadrature de Gauss-Legendre) l'erreur que l'on commet à évaluer l'intégrale sur [a,b]? Il existe des variantes de la méthode Gauss-Legendre qui donne la possibilité d'utiliser une partie des points/noeuds pour obtenir une estimation de l'intégrale (certes de moins bonne qualité) qui permet d'obtenir ainsi 2 estimations de l'integrale et d'en déduire, par différence, une erreur sur l'intégrale.\n",
    "\n",
    "En répondant à la question (2) on peut mettre en place un algorithme qui répond à la question (1) par exemple, en coupant itérativement en 2 le sous-intervale qui a la plus grande erreur. Ce type d'algorithme est à l'oeuvre dans Mathematica, mais pas dans les fonctions *quad* et *quadrature* de la librairie **scipy**. Mais cette dernière est très utile cependant. On l'utilise selon"
   ]
  },
  {
   "cell_type": "code",
   "execution_count": 167,
   "metadata": {},
   "outputs": [],
   "source": [
    "from scipy import integrate"
   ]
  },
  {
   "cell_type": "code",
   "execution_count": 173,
   "metadata": {},
   "outputs": [],
   "source": [
    "integ, err = integrate.quad(g, 0.0, 2.0,epsabs=1e-6)"
   ]
  },
  {
   "cell_type": "code",
   "execution_count": 174,
   "metadata": {},
   "outputs": [
    {
     "name": "stdout",
     "output_type": "stream",
     "text": [
      "integrale =  0.2396666394996771  +/-  6.455738334187888e-08\n"
     ]
    }
   ],
   "source": [
    "print(\"integrale = \",integ,\" +/- \", err)"
   ]
  },
  {
   "cell_type": "code",
   "execution_count": null,
   "metadata": {},
   "outputs": [],
   "source": []
  }
 ],
 "metadata": {
  "kernelspec": {
   "display_name": "Python 3",
   "language": "python",
   "name": "python3"
  },
  "language_info": {
   "codemirror_mode": {
    "name": "ipython",
    "version": 3
   },
   "file_extension": ".py",
   "mimetype": "text/x-python",
   "name": "python",
   "nbconvert_exporter": "python",
   "pygments_lexer": "ipython3",
   "version": "3.7.1"
  }
 },
 "nbformat": 4,
 "nbformat_minor": 2
}
